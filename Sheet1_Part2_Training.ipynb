{
 "cells": [
  {
   "cell_type": "markdown",
   "id": "e230b182",
   "metadata": {},
   "source": [
    "# <center>Deep Learning - Excercise Sheet 1"
   ]
  },
  {
   "cell_type": "markdown",
   "id": "3a80f5c2",
   "metadata": {},
   "source": [
    "## <center>Suhas Kamuni <br> Prafful Gulati <br> Ceren Tüfekçi"
   ]
  },
  {
   "cell_type": "markdown",
   "id": "2ced75cf",
   "metadata": {},
   "source": [
    "# <center>Part 2 - 1"
   ]
  },
  {
   "cell_type": "markdown",
   "id": "62431b57",
   "metadata": {},
   "source": [
    "So we sort of build our model from the code that was shared to all of us. <br> We take Optimizer 1 as SGD and Optimizer 2 for ADAM and train for the entire part of the assignment. <br> We also assign a list to the accuracy and the loss and append on the  in the for loop to sort of manipualte and visualize the same for our inference."
   ]
  },
  {
   "cell_type": "markdown",
   "id": "29de302b",
   "metadata": {},
   "source": [
    "We also had to bring in another notebook as my kernel would simply crash if I had to visualize using matplotlib in this particular notebook. So we had to generate the values in this notebook and take it to another one to visualize the same."
   ]
  },
  {
   "cell_type": "markdown",
   "id": "ed37bd96",
   "metadata": {},
   "source": [
    "<b>Note :-</b> Reproducing the same code results in different values."
   ]
  },
  {
   "cell_type": "code",
   "execution_count": 60,
   "id": "ac2c3b99",
   "metadata": {},
   "outputs": [],
   "source": [
    "import torch\n",
    "from torch import nn\n",
    "from torch.utils.data import DataLoader\n",
    "from torchvision import datasets\n",
    "from torchvision.transforms import ToTensor\n",
    "\n",
    "# Populate the accuracy and loss list for further visualization.\n",
    "test_accuracy = []\n",
    "test_loss = []\n",
    " \n",
    "# Prepare training and test data.\n",
    "training_data = datasets.FashionMNIST(\n",
    "    root=\"data\",\n",
    "    train=True,\n",
    "    download=True,\n",
    "    transform=ToTensor(),\n",
    ")\n",
    "test_data = datasets.FashionMNIST(\n",
    "    root=\"data\",\n",
    "    train=False,\n",
    "    download=True,\n",
    "    transform=ToTensor(),\n",
    ")\n",
    "\n",
    "train_data_loader = DataLoader(training_data, batch_size=64)\n",
    "test_data_loader = DataLoader(test_data, batch_size=64) \n",
    " \n",
    " \n",
    "# Define network.\n",
    "class FashionNetwork(nn.Module):\n",
    "    def __init__(self):\n",
    "        super(FashionNetwork, self).__init__()\n",
    "        self.flatten = nn.Flatten()\n",
    "        self.linear_relu_stack = nn.Sequential(\n",
    "            nn.Linear(28 * 28, 512),\n",
    "            nn.ReLU(),\n",
    "            nn.Linear(512, 512),\n",
    "            nn.ReLU(),\n",
    "            nn.Linear(512, 10),\n",
    "        )\n",
    " \n",
    "    def forward(self, x):\n",
    "        x = self.flatten(x)\n",
    "        logits = self.linear_relu_stack(x)\n",
    "        return logits\n",
    " \n",
    " \n",
    "def train_loop(\n",
    "    data_loader, model, loss_function, optimizer\n",
    "):\n",
    "    for batch, (data, labels) in enumerate(data_loader):\n",
    "        # Feed data through network and compute loss.\n",
    "        prediction = model(data)\n",
    "        loss = loss_function(prediction, labels)\n",
    " \n",
    "        # Zero gradients.\n",
    "        optimizer.zero_grad()\n",
    " \n",
    "        # Perform backpropagation and accumulate gradients.\n",
    "        loss.backward()\n",
    " \n",
    "        # Update network parameters.\n",
    "        optimizer.step()\n",
    " \n",
    "def test_loop(data_loader, model, loss_function):\n",
    "    n_samples = len(data_loader.dataset)\n",
    "    n_batches = len(data_loader)\n",
    "    loss, n_correct = 0, 0\n",
    "    with torch.no_grad():\n",
    "\n",
    "        for data, labels in data_loader:\n",
    "            # Feed data through network and accumulate loss.\n",
    "            prediction = model(data)\n",
    "            loss += loss_function(\n",
    "                prediction, labels\n",
    "            ).item()\n",
    "            n_correct += (\n",
    "                (prediction.argmax(1) == labels)\n",
    "                .type(torch.float)\n",
    "                .sum()\n",
    "                .item()\n",
    "            )  \n",
    "    \n",
    "    test_accuracy.append(n_correct / n_samples) \n",
    "    test_loss.append(loss / n_batches) \n",
    "    print(\n",
    "        f\"Test Accuracy: {n_correct / n_samples:.2%}, \"\n",
    "        f\"Test Loss: {loss / n_batches:.4}\"\n",
    "    )\n",
    " \n",
    " \n",
    "# Initialize network, loss function, and optimizer.\n",
    "model = FashionNetwork()\n",
    "loss_fn = nn.CrossEntropyLoss()\n",
    "learning_rate = 1e-3\n",
    "\n",
    "#Setting the optimizer for SGD\n",
    "optimizer1 = torch.optim.SGD(model.parameters(), lr=learning_rate)\n",
    "\n",
    "#Setting the optimizer for ADAM\n",
    "optimizer2 = torch.optim.Adam(model.parameters(), lr=learning_rate)"
   ]
  },
  {
   "cell_type": "markdown",
   "id": "db9e1526",
   "metadata": {},
   "source": [
    "We decided to seperately assign the accuracy and the loss after every loop run with the .clear() and the .copy() function in order to establish the values for visualization in the other notebook."
   ]
  },
  {
   "cell_type": "code",
   "execution_count": 2,
   "id": "cc3a8aa6",
   "metadata": {},
   "outputs": [
    {
     "name": "stdout",
     "output_type": "stream",
     "text": [
      "Epoch 01 Test Accuracy: 52.56%, Test Loss: 2.151\n",
      "Epoch 02 Test Accuracy: 57.03%, Test Loss: 1.873\n",
      "Epoch 03 Test Accuracy: 61.78%, Test Loss: 1.5\n",
      "Epoch 04 Test Accuracy: 64.38%, Test Loss: 1.237\n",
      "Epoch 05 Test Accuracy: 65.90%, Test Loss: 1.074\n",
      "Epoch 06 Test Accuracy: 67.45%, Test Loss: 0.969\n",
      "Epoch 07 Test Accuracy: 68.73%, Test Loss: 0.896\n",
      "Epoch 08 Test Accuracy: 70.06%, Test Loss: 0.8424\n",
      "Epoch 09 Test Accuracy: 71.34%, Test Loss: 0.8011\n",
      "Epoch 10 Test Accuracy: 72.64%, Test Loss: 0.7681\n"
     ]
    }
   ],
   "source": [
    "# Train the SGD network on train set.\n",
    "n_epochs = 10\n",
    "#test_accuracy.clear()\n",
    "#test_loss.clear()\n",
    "for t in range(n_epochs):\n",
    "    print(f\"Epoch {t + 1:02}\", end=\" \", flush=True)\n",
    "    train_loop(\n",
    "        train_data_loader, model, loss_fn, optimizer1\n",
    "    )\n",
    "    test_loop(train_data_loader, model, loss_fn)"
   ]
  },
  {
   "cell_type": "code",
   "execution_count": 3,
   "id": "9fce0db0",
   "metadata": {},
   "outputs": [],
   "source": [
    "# Immediatly assign the values to a new variable in order to capture the iterated values from the loop run\n",
    "trainset_accuracy_SGD = test_accuracy.copy()\n",
    "trainset_loss_SGD = test_loss.copy()"
   ]
  },
  {
   "cell_type": "code",
   "execution_count": 14,
   "id": "bb0eae42",
   "metadata": {},
   "outputs": [
    {
     "data": {
      "text/plain": [
       "[0.5256,\n",
       " 0.5702666666666667,\n",
       " 0.6178333333333333,\n",
       " 0.6438166666666667,\n",
       " 0.659,\n",
       " 0.6744833333333333,\n",
       " 0.68725,\n",
       " 0.7005833333333333,\n",
       " 0.7133666666666667,\n",
       " 0.7264]"
      ]
     },
     "execution_count": 14,
     "metadata": {},
     "output_type": "execute_result"
    }
   ],
   "source": [
    "trainset_accuracy_SGD"
   ]
  },
  {
   "cell_type": "code",
   "execution_count": 61,
   "id": "b2a109bc",
   "metadata": {},
   "outputs": [
    {
     "data": {
      "text/plain": [
       "[2.150539759125537,\n",
       " 1.8730332646796952,\n",
       " 1.5003468362507282,\n",
       " 1.2367172537327829,\n",
       " 1.074422391175207,\n",
       " 0.9689935427993092,\n",
       " 0.896016828350421,\n",
       " 0.8423773006462594,\n",
       " 0.8011102351044287,\n",
       " 0.7680856520051895]"
      ]
     },
     "execution_count": 61,
     "metadata": {},
     "output_type": "execute_result"
    }
   ],
   "source": [
    "trainset_loss_SGD"
   ]
  },
  {
   "cell_type": "code",
   "execution_count": 16,
   "id": "f28072ab",
   "metadata": {},
   "outputs": [
    {
     "name": "stdout",
     "output_type": "stream",
     "text": [
      "Epoch 01 Test Accuracy: 93.22%, Test Loss: 0.1856\n",
      "Epoch 02 Test Accuracy: 93.04%, Test Loss: 0.1975\n",
      "Epoch 03 Test Accuracy: 93.25%, Test Loss: 0.182\n",
      "Epoch 04 Test Accuracy: 93.00%, Test Loss: 0.2026\n",
      "Epoch 05 Test Accuracy: 93.17%, Test Loss: 0.1868\n",
      "Epoch 06 Test Accuracy: 92.60%, Test Loss: 0.2188\n",
      "Epoch 07 Test Accuracy: 92.96%, Test Loss: 0.1987\n",
      "Epoch 08 Test Accuracy: 92.72%, Test Loss: 0.2134\n",
      "Epoch 09 Test Accuracy: 93.84%, Test Loss: 0.1799\n",
      "Epoch 10 Test Accuracy: 93.39%, Test Loss: 0.2015\n"
     ]
    }
   ],
   "source": [
    "# Train the ADAM network on train set.\n",
    "n_epochs = 10\n",
    "test_accuracy.clear()\n",
    "test_loss.clear()\n",
    "for t in range(n_epochs):\n",
    "    print(f\"Epoch {t + 1:02}\", end=\" \", flush=True)\n",
    "    train_loop(\n",
    "        train_data_loader, model, loss_fn, optimizer2\n",
    "    )\n",
    "    test_loop(train_data_loader, model, loss_fn)"
   ]
  },
  {
   "cell_type": "code",
   "execution_count": 17,
   "id": "4d0082b8",
   "metadata": {},
   "outputs": [],
   "source": [
    "# Immediatly assign the values to a new variable in order to capture the iterated values from the loop run\n",
    "trainset_accuracy_ADAM = test_accuracy.copy()\n",
    "trainset_loss_ADAM = test_loss.copy()"
   ]
  },
  {
   "cell_type": "code",
   "execution_count": 18,
   "id": "93840d9c",
   "metadata": {},
   "outputs": [
    {
     "data": {
      "text/plain": [
       "[0.9321666666666667,\n",
       " 0.9303833333333333,\n",
       " 0.9325333333333333,\n",
       " 0.9300333333333334,\n",
       " 0.9317333333333333,\n",
       " 0.9260166666666667,\n",
       " 0.9296166666666666,\n",
       " 0.9271666666666667,\n",
       " 0.9384333333333333,\n",
       " 0.9339333333333333]"
      ]
     },
     "execution_count": 18,
     "metadata": {},
     "output_type": "execute_result"
    }
   ],
   "source": [
    "trainset_accuracy_ADAM"
   ]
  },
  {
   "cell_type": "code",
   "execution_count": 62,
   "id": "ff99437b",
   "metadata": {},
   "outputs": [
    {
     "data": {
      "text/plain": [
       "[0.18563943647984057,\n",
       " 0.19747485725213088,\n",
       " 0.18202300329428556,\n",
       " 0.20258558041918506,\n",
       " 0.1867510809112332,\n",
       " 0.21882052129027305,\n",
       " 0.19867133099569886,\n",
       " 0.21339427409316303,\n",
       " 0.17988212008887072,\n",
       " 0.20146569858259483]"
      ]
     },
     "execution_count": 62,
     "metadata": {},
     "output_type": "execute_result"
    }
   ],
   "source": [
    "trainset_loss_ADAM"
   ]
  },
  {
   "cell_type": "code",
   "execution_count": 8,
   "id": "21ea9059",
   "metadata": {},
   "outputs": [
    {
     "name": "stdout",
     "output_type": "stream",
     "text": [
      "Epoch 01 Test Accuracy: 88.92%, Test Loss: 0.3362\n",
      "Epoch 02 Test Accuracy: 89.09%, Test Loss: 0.3309\n",
      "Epoch 03 Test Accuracy: 89.18%, Test Loss: 0.3282\n",
      "Epoch 04 Test Accuracy: 89.23%, Test Loss: 0.3264\n",
      "Epoch 05 Test Accuracy: 89.34%, Test Loss: 0.3251\n",
      "Epoch 06 Test Accuracy: 89.32%, Test Loss: 0.3241\n",
      "Epoch 07 Test Accuracy: 89.34%, Test Loss: 0.3233\n",
      "Epoch 08 Test Accuracy: 89.37%, Test Loss: 0.3227\n",
      "Epoch 09 Test Accuracy: 89.42%, Test Loss: 0.3221\n",
      "Epoch 10 Test Accuracy: 89.45%, Test Loss: 0.3217\n"
     ]
    }
   ],
   "source": [
    "# Test the SGD network on test set.\n",
    "n_epochs = 10\n",
    "test_accuracy.clear()\n",
    "test_loss.clear()\n",
    "for t in range(n_epochs):\n",
    "    print(f\"Epoch {t + 1:02}\", end=\" \", flush=True)\n",
    "    train_loop(\n",
    "        train_data_loader, model, loss_fn, optimizer1\n",
    "    )\n",
    "    test_loop(test_data_loader, model, loss_fn)"
   ]
  },
  {
   "cell_type": "code",
   "execution_count": 9,
   "id": "f0e5889f",
   "metadata": {},
   "outputs": [],
   "source": [
    "# Immediatly assign the values to a new variable in order to capture the iterated values from the loop run\n",
    "testset_accuracy_SGD = test_accuracy.copy()\n",
    "testset_loss_SGD = test_loss.copy()"
   ]
  },
  {
   "cell_type": "code",
   "execution_count": 19,
   "id": "dab97c74",
   "metadata": {},
   "outputs": [
    {
     "data": {
      "text/plain": [
       "[0.8892,\n",
       " 0.8909,\n",
       " 0.8918,\n",
       " 0.8923,\n",
       " 0.8934,\n",
       " 0.8932,\n",
       " 0.8934,\n",
       " 0.8937,\n",
       " 0.8942,\n",
       " 0.8945]"
      ]
     },
     "execution_count": 19,
     "metadata": {},
     "output_type": "execute_result"
    }
   ],
   "source": [
    "testset_accuracy_SGD"
   ]
  },
  {
   "cell_type": "code",
   "execution_count": 63,
   "id": "a6d00748",
   "metadata": {},
   "outputs": [
    {
     "data": {
      "text/plain": [
       "[0.33617898048299133,\n",
       " 0.3309130511561017,\n",
       " 0.3281965606436608,\n",
       " 0.32642786555988773,\n",
       " 0.32512844149853776,\n",
       " 0.32412721173968284,\n",
       " 0.3233428952420593,\n",
       " 0.32267403332101313,\n",
       " 0.32214005742293256,\n",
       " 0.32169404322174705]"
      ]
     },
     "execution_count": 63,
     "metadata": {},
     "output_type": "execute_result"
    }
   ],
   "source": [
    "testset_loss_SGD"
   ]
  },
  {
   "cell_type": "code",
   "execution_count": 11,
   "id": "b34b1949",
   "metadata": {},
   "outputs": [
    {
     "name": "stdout",
     "output_type": "stream",
     "text": [
      "Epoch 01 Test Accuracy: 88.43%, Test Loss: 0.3704\n",
      "Epoch 02 Test Accuracy: 87.53%, Test Loss: 0.3975\n",
      "Epoch 03 Test Accuracy: 88.20%, Test Loss: 0.3859\n",
      "Epoch 04 Test Accuracy: 87.99%, Test Loss: 0.4138\n",
      "Epoch 05 Test Accuracy: 88.42%, Test Loss: 0.3981\n",
      "Epoch 06 Test Accuracy: 88.52%, Test Loss: 0.401\n",
      "Epoch 07 Test Accuracy: 88.25%, Test Loss: 0.4037\n",
      "Epoch 08 Test Accuracy: 88.39%, Test Loss: 0.4103\n",
      "Epoch 09 Test Accuracy: 88.35%, Test Loss: 0.4282\n",
      "Epoch 10 Test Accuracy: 87.96%, Test Loss: 0.4596\n"
     ]
    }
   ],
   "source": [
    "# Test the ADAM network on test set.\n",
    "n_epochs = 10\n",
    "test_accuracy.clear()\n",
    "test_loss.clear()\n",
    "for t in range(n_epochs):\n",
    "    print(f\"Epoch {t + 1:02}\", end=\" \", flush=True)\n",
    "    train_loop(\n",
    "        train_data_loader, model, loss_fn, optimizer2\n",
    "    )\n",
    "    test_loop(test_data_loader, model, loss_fn)"
   ]
  },
  {
   "cell_type": "code",
   "execution_count": 12,
   "id": "a45b792f",
   "metadata": {},
   "outputs": [],
   "source": [
    "# Immediatly assign the values to a new variable in order to capture the iterated values from the loop run\n",
    "testset_accuracy_ADAM = test_accuracy.copy()\n",
    "testset_loss_ADAM = test_loss.copy()"
   ]
  },
  {
   "cell_type": "code",
   "execution_count": 20,
   "id": "43dabced",
   "metadata": {},
   "outputs": [
    {
     "data": {
      "text/plain": [
       "[0.8843, 0.8753, 0.882, 0.8799, 0.8842, 0.8852, 0.8825, 0.8839, 0.8835, 0.8796]"
      ]
     },
     "execution_count": 20,
     "metadata": {},
     "output_type": "execute_result"
    }
   ],
   "source": [
    "testset_accuracy_ADAM"
   ]
  },
  {
   "cell_type": "code",
   "execution_count": 64,
   "id": "640d080f",
   "metadata": {},
   "outputs": [
    {
     "data": {
      "text/plain": [
       "[0.37039518014640566,\n",
       " 0.3975180583015369,\n",
       " 0.3858817814831521,\n",
       " 0.4137562616805362,\n",
       " 0.39814006579909356,\n",
       " 0.40099671131865994,\n",
       " 0.4037004771411039,\n",
       " 0.4102680691203494,\n",
       " 0.42821831194458493,\n",
       " 0.45959384022814453]"
      ]
     },
     "execution_count": 64,
     "metadata": {},
     "output_type": "execute_result"
    }
   ],
   "source": [
    "testset_loss_ADAM"
   ]
  },
  {
   "cell_type": "markdown",
   "id": "6209bbe1",
   "metadata": {},
   "source": [
    "# <center>Part 2 - 2"
   ]
  },
  {
   "cell_type": "markdown",
   "id": "6cde444a",
   "metadata": {},
   "source": [
    "Our 3 different batch sizes ended up being 32, 50 and 100 to consider the mini-batch requirement from the question. We used the optimizer 1 (ADAM) which was passed in the previous cell in order to evaluate the differences."
   ]
  },
  {
   "cell_type": "code",
   "execution_count": 34,
   "id": "0423d132",
   "metadata": {},
   "outputs": [],
   "source": [
    "# Changing the batch sizes to accomodate mini-batch training for size 32\n",
    "train_data_loader1 = DataLoader(training_data, batch_size=32)\n",
    "test_data_loader1 = DataLoader(test_data, batch_size=32) \n",
    "\n",
    "# Batch Size 50\n",
    "train_data_loader2 = DataLoader(training_data, batch_size=50)\n",
    "test_data_loader2 = DataLoader(test_data, batch_size=50) \n",
    "\n",
    "# Batch Size 100\n",
    "train_data_loader3 = DataLoader(training_data, batch_size=100)\n",
    "test_data_loader3 = DataLoader(test_data, batch_size=100) "
   ]
  },
  {
   "cell_type": "code",
   "execution_count": 43,
   "id": "726b51ab",
   "metadata": {},
   "outputs": [
    {
     "name": "stdout",
     "output_type": "stream",
     "text": [
      "Epoch 01 Test Accuracy: 87.73%, Test Loss: 0.5236\n",
      "Epoch 02 Test Accuracy: 88.00%, Test Loss: 0.5584\n",
      "Epoch 03 Test Accuracy: 87.94%, Test Loss: 0.5444\n",
      "Epoch 04 Test Accuracy: 88.09%, Test Loss: 0.5933\n",
      "Epoch 05 Test Accuracy: 88.14%, Test Loss: 0.5481\n",
      "Epoch 06 Test Accuracy: 88.09%, Test Loss: 0.5769\n",
      "Epoch 07 Test Accuracy: 86.71%, Test Loss: 0.5775\n",
      "Epoch 08 Test Accuracy: 86.75%, Test Loss: 0.7569\n",
      "Epoch 09 Test Accuracy: 87.85%, Test Loss: 0.5894\n",
      "Epoch 10 Test Accuracy: 87.69%, Test Loss: 0.6447\n"
     ]
    }
   ],
   "source": [
    "# Train the ADAM network for batch size 32.\n",
    "n_epochs = 10\n",
    "test_accuracy.clear()\n",
    "test_loss.clear()\n",
    "for t in range(n_epochs):\n",
    "    print(f\"Epoch {t + 1:02}\", end=\" \", flush=True)\n",
    "    train_loop(\n",
    "        train_data_loader1, model, loss_fn, optimizer2\n",
    "    )\n",
    "    test_loop(test_data_loader1, model, loss_fn)"
   ]
  },
  {
   "cell_type": "code",
   "execution_count": 44,
   "id": "93e4e2cd",
   "metadata": {},
   "outputs": [],
   "source": [
    "# Immediatly assign the values to a new variable in order to capture the iterated values from the loop run\n",
    "batch1_accuracy = test_accuracy.copy()\n",
    "batch1_loss = test_loss.copy()"
   ]
  },
  {
   "cell_type": "code",
   "execution_count": 52,
   "id": "bd00b15e",
   "metadata": {},
   "outputs": [
    {
     "data": {
      "text/plain": [
       "[0.5235953990239114,\n",
       " 0.5583584936954581,\n",
       " 0.5443922763440413,\n",
       " 0.593314071179936,\n",
       " 0.5480567795513108,\n",
       " 0.5769271059051013,\n",
       " 0.5774881011142898,\n",
       " 0.7568578205737895,\n",
       " 0.5894474721939181,\n",
       " 0.6447472180620717]"
      ]
     },
     "execution_count": 52,
     "metadata": {},
     "output_type": "execute_result"
    }
   ],
   "source": [
    "batch1_loss"
   ]
  },
  {
   "cell_type": "code",
   "execution_count": 65,
   "id": "d73fd70e",
   "metadata": {},
   "outputs": [
    {
     "data": {
      "text/plain": [
       "[0.8773, 0.88, 0.8794, 0.8809, 0.8814, 0.8809, 0.8671, 0.8675, 0.8785, 0.8769]"
      ]
     },
     "execution_count": 65,
     "metadata": {},
     "output_type": "execute_result"
    }
   ],
   "source": [
    "batch1_accuracy"
   ]
  },
  {
   "cell_type": "code",
   "execution_count": 46,
   "id": "055caf2b",
   "metadata": {},
   "outputs": [
    {
     "name": "stdout",
     "output_type": "stream",
     "text": [
      "Epoch 01 Test Accuracy: 87.97%, Test Loss: 0.6057\n",
      "Epoch 02 Test Accuracy: 87.73%, Test Loss: 0.6631\n",
      "Epoch 03 Test Accuracy: 88.24%, Test Loss: 0.6738\n",
      "Epoch 04 Test Accuracy: 88.76%, Test Loss: 0.6475\n",
      "Epoch 05 Test Accuracy: 88.25%, Test Loss: 0.7105\n",
      "Epoch 06 Test Accuracy: 88.03%, Test Loss: 0.6643\n",
      "Epoch 07 Test Accuracy: 88.75%, Test Loss: 0.7505\n",
      "Epoch 08 Test Accuracy: 88.36%, Test Loss: 0.7455\n",
      "Epoch 09 Test Accuracy: 88.04%, Test Loss: 0.8449\n",
      "Epoch 10 Test Accuracy: 87.75%, Test Loss: 0.849\n"
     ]
    }
   ],
   "source": [
    "# Train the ADAM network for batch size 50.\n",
    "n_epochs = 10\n",
    "test_accuracy.clear()\n",
    "test_loss.clear()\n",
    "for t in range(n_epochs):\n",
    "    print(f\"Epoch {t + 1:02}\", end=\" \", flush=True)\n",
    "    train_loop(\n",
    "        train_data_loader2, model, loss_fn, optimizer2\n",
    "    )\n",
    "    test_loop(test_data_loader2, model, loss_fn)"
   ]
  },
  {
   "cell_type": "code",
   "execution_count": 48,
   "id": "c18a58a0",
   "metadata": {},
   "outputs": [],
   "source": [
    "# Immediatly assign the values to a new variable in order to capture the iterated values from the loop run\n",
    "batch2_accuracy = test_accuracy.copy()\n",
    "batch2_loss = test_loss.copy()"
   ]
  },
  {
   "cell_type": "code",
   "execution_count": 54,
   "id": "4be73b9d",
   "metadata": {},
   "outputs": [
    {
     "data": {
      "text/plain": [
       "[0.605719848535955,\n",
       " 0.6630516795441508,\n",
       " 0.6737691823393106,\n",
       " 0.6474647032283246,\n",
       " 0.7105145682021976,\n",
       " 0.6642569295316935,\n",
       " 0.7505240259692073,\n",
       " 0.7454536410048604,\n",
       " 0.8449152358993888,\n",
       " 0.8489666421245784]"
      ]
     },
     "execution_count": 54,
     "metadata": {},
     "output_type": "execute_result"
    }
   ],
   "source": [
    "batch2_loss"
   ]
  },
  {
   "cell_type": "code",
   "execution_count": 66,
   "id": "31034197",
   "metadata": {},
   "outputs": [
    {
     "data": {
      "text/plain": [
       "[0.8797,\n",
       " 0.8773,\n",
       " 0.8824,\n",
       " 0.8876,\n",
       " 0.8825,\n",
       " 0.8803,\n",
       " 0.8875,\n",
       " 0.8836,\n",
       " 0.8804,\n",
       " 0.8775]"
      ]
     },
     "execution_count": 66,
     "metadata": {},
     "output_type": "execute_result"
    }
   ],
   "source": [
    "batch2_accuracy"
   ]
  },
  {
   "cell_type": "code",
   "execution_count": 56,
   "id": "43506f03",
   "metadata": {},
   "outputs": [
    {
     "name": "stdout",
     "output_type": "stream",
     "text": [
      "Epoch 01 Test Accuracy: 87.75%, Test Loss: 0.953\n",
      "Epoch 02 Test Accuracy: 88.47%, Test Loss: 0.9762\n",
      "Epoch 03 Test Accuracy: 88.74%, Test Loss: 1.045\n",
      "Epoch 04 Test Accuracy: 88.41%, Test Loss: 1.086\n",
      "Epoch 05 Test Accuracy: 88.20%, Test Loss: 1.007\n",
      "Epoch 06 Test Accuracy: 88.64%, Test Loss: 1.073\n",
      "Epoch 07 Test Accuracy: 88.66%, Test Loss: 0.9979\n",
      "Epoch 08 Test Accuracy: 88.58%, Test Loss: 1.017\n",
      "Epoch 09 Test Accuracy: 88.41%, Test Loss: 1.087\n",
      "Epoch 10 Test Accuracy: 88.31%, Test Loss: 1.05\n"
     ]
    }
   ],
   "source": [
    "# Train the ADAM network for batch size 100.\n",
    "n_epochs = 10\n",
    "test_accuracy.clear()\n",
    "test_loss.clear()\n",
    "for t in range(n_epochs):\n",
    "    print(f\"Epoch {t + 1:02}\", end=\" \", flush=True)\n",
    "    train_loop(\n",
    "        train_data_loader3, model, loss_fn, optimizer2\n",
    "    )\n",
    "    test_loop(test_data_loader3, model, loss_fn)"
   ]
  },
  {
   "cell_type": "code",
   "execution_count": 57,
   "id": "6e03a737",
   "metadata": {},
   "outputs": [],
   "source": [
    "# Immediatly assign the values to a new variable in order to capture the iterated values from the loop run\n",
    "batch3_accuracy = test_accuracy.copy()\n",
    "batch3_loss = test_loss.copy()"
   ]
  },
  {
   "cell_type": "code",
   "execution_count": 59,
   "id": "99554b1a",
   "metadata": {},
   "outputs": [
    {
     "data": {
      "text/plain": [
       "[0.9529888588190079,\n",
       " 0.9761667083203792,\n",
       " 1.045451540350914,\n",
       " 1.0863357912003995,\n",
       " 1.0070372568070889,\n",
       " 1.0729454743862152,\n",
       " 0.9979065202176571,\n",
       " 1.0172511778771878,\n",
       " 1.087276618629694,\n",
       " 1.049800429046154]"
      ]
     },
     "execution_count": 59,
     "metadata": {},
     "output_type": "execute_result"
    }
   ],
   "source": [
    "batch3_loss"
   ]
  },
  {
   "cell_type": "code",
   "execution_count": 67,
   "id": "6acb8053",
   "metadata": {},
   "outputs": [
    {
     "data": {
      "text/plain": [
       "[0.8775, 0.8847, 0.8874, 0.8841, 0.882, 0.8864, 0.8866, 0.8858, 0.8841, 0.8831]"
      ]
     },
     "execution_count": 67,
     "metadata": {},
     "output_type": "execute_result"
    }
   ],
   "source": [
    "batch3_accuracy"
   ]
  }
 ],
 "metadata": {
  "kernelspec": {
   "display_name": "Python 3 (ipykernel)",
   "language": "python",
   "name": "python3"
  },
  "language_info": {
   "codemirror_mode": {
    "name": "ipython",
    "version": 3
   },
   "file_extension": ".py",
   "mimetype": "text/x-python",
   "name": "python",
   "nbconvert_exporter": "python",
   "pygments_lexer": "ipython3",
   "version": "3.9.7"
  }
 },
 "nbformat": 4,
 "nbformat_minor": 5
}
